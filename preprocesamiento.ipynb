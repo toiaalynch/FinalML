{
 "cells": [
  {
   "cell_type": "markdown",
   "metadata": {},
   "source": [
    "# Preprocesamiento datos Alquiler AMBA"
   ]
  },
  {
   "cell_type": "markdown",
   "metadata": {},
   "source": [
    "### Importar librerías"
   ]
  },
  {
   "cell_type": "markdown",
   "metadata": {},
   "source": [
    "#### División del dataset\n",
    "\n",
    "Agrego datos realcionados a al media del precio del dataset de TRAIN para evitar Data Leakage.\n",
    "Hago mean encoding para ITE_ADD_NEIGHBORHOOD_NAME"
   ]
  },
  {
   "cell_type": "code",
   "execution_count": 1,
   "metadata": {},
   "outputs": [],
   "source": [
    "import numpy as np\n",
    "import pandas as pd\n",
    "import matplotlib.pyplot as plt\n",
    "from sklearn.model_selection import train_test_split"
   ]
  },
  {
   "cell_type": "markdown",
   "metadata": {},
   "source": [
    "### Cargar el archivo a procesar"
   ]
  },
  {
   "cell_type": "code",
   "execution_count": 2,
   "metadata": {},
   "outputs": [],
   "source": [
    "\"path_toia = '/Users/victoria/Desktop/alquiler_AMBA_dev.csv'\"\n",
    "path_toia = '/Users/benjavitale/Documents/ML/TP_F/alquiler_AMBA_dev.csv'\n",
    "df_original = pd.read_csv(path_toia, low_memory=False)"
   ]
  },
  {
   "cell_type": "code",
   "execution_count": 3,
   "metadata": {},
   "outputs": [
    {
     "name": "stdout",
     "output_type": "stream",
     "text": [
      "El dataset tiene 278725 filas y 45 columnas.\n"
     ]
    }
   ],
   "source": [
    "df = pd.read_csv(path_toia, low_memory=False)\n",
    "filas, columnas = df.shape\n",
    "print(f\"El dataset tiene {filas} filas y {columnas} columnas.\")"
   ]
  },
  {
   "cell_type": "markdown",
   "metadata": {},
   "source": [
    "### Exploración de los Datos"
   ]
  },
  {
   "cell_type": "code",
   "execution_count": 4,
   "metadata": {},
   "outputs": [
    {
     "data": {
      "text/html": [
       "<div>\n",
       "<style scoped>\n",
       "    .dataframe tbody tr th:only-of-type {\n",
       "        vertical-align: middle;\n",
       "    }\n",
       "\n",
       "    .dataframe tbody tr th {\n",
       "        vertical-align: top;\n",
       "    }\n",
       "\n",
       "    .dataframe thead th {\n",
       "        text-align: right;\n",
       "    }\n",
       "</style>\n",
       "<table border=\"1\" class=\"dataframe\">\n",
       "  <thead>\n",
       "    <tr style=\"text-align: right;\">\n",
       "      <th></th>\n",
       "      <th>id_grid</th>\n",
       "      <th>STotalM2</th>\n",
       "      <th>SConstrM2</th>\n",
       "      <th>Dormitorios</th>\n",
       "      <th>Banos</th>\n",
       "      <th>Ambientes</th>\n",
       "      <th>Cocheras</th>\n",
       "      <th>PistaJogging</th>\n",
       "      <th>Lobby</th>\n",
       "      <th>LocalesComerciales</th>\n",
       "      <th>AreaParrillas</th>\n",
       "      <th>LONGITUDE</th>\n",
       "      <th>LATITUDE</th>\n",
       "      <th>precio_pesos_constantes</th>\n",
       "      <th>year</th>\n",
       "    </tr>\n",
       "  </thead>\n",
       "  <tbody>\n",
       "    <tr>\n",
       "      <th>count</th>\n",
       "      <td>278725.000000</td>\n",
       "      <td>2.787050e+05</td>\n",
       "      <td>2.787050e+05</td>\n",
       "      <td>278725.000000</td>\n",
       "      <td>278725.000000</td>\n",
       "      <td>278725.000000</td>\n",
       "      <td>278725.000000</td>\n",
       "      <td>188004.0</td>\n",
       "      <td>188004.0</td>\n",
       "      <td>188004.0</td>\n",
       "      <td>253676.000000</td>\n",
       "      <td>278725.000000</td>\n",
       "      <td>278725.000000</td>\n",
       "      <td>2.787250e+05</td>\n",
       "      <td>278725.000000</td>\n",
       "    </tr>\n",
       "    <tr>\n",
       "      <th>mean</th>\n",
       "      <td>59833.062739</td>\n",
       "      <td>3.739940e+03</td>\n",
       "      <td>3.356831e+04</td>\n",
       "      <td>1.422237</td>\n",
       "      <td>1.335632</td>\n",
       "      <td>2.389473</td>\n",
       "      <td>0.402454</td>\n",
       "      <td>0.0</td>\n",
       "      <td>0.0</td>\n",
       "      <td>0.0</td>\n",
       "      <td>0.035301</td>\n",
       "      <td>-58.481580</td>\n",
       "      <td>-34.597932</td>\n",
       "      <td>8.088557e+04</td>\n",
       "      <td>2021.481776</td>\n",
       "    </tr>\n",
       "    <tr>\n",
       "      <th>std</th>\n",
       "      <td>14774.014764</td>\n",
       "      <td>9.492445e+05</td>\n",
       "      <td>8.415217e+06</td>\n",
       "      <td>1.199622</td>\n",
       "      <td>1.023134</td>\n",
       "      <td>1.392421</td>\n",
       "      <td>2.088215</td>\n",
       "      <td>0.0</td>\n",
       "      <td>0.0</td>\n",
       "      <td>0.0</td>\n",
       "      <td>0.184540</td>\n",
       "      <td>0.115362</td>\n",
       "      <td>0.081715</td>\n",
       "      <td>6.675325e+05</td>\n",
       "      <td>0.499669</td>\n",
       "    </tr>\n",
       "    <tr>\n",
       "      <th>min</th>\n",
       "      <td>124.000000</td>\n",
       "      <td>0.000000e+00</td>\n",
       "      <td>0.000000e+00</td>\n",
       "      <td>0.000000</td>\n",
       "      <td>-1.000000</td>\n",
       "      <td>0.000000</td>\n",
       "      <td>-4.000000</td>\n",
       "      <td>0.0</td>\n",
       "      <td>0.0</td>\n",
       "      <td>0.0</td>\n",
       "      <td>0.000000</td>\n",
       "      <td>-58.874595</td>\n",
       "      <td>-34.923504</td>\n",
       "      <td>4.264038e+01</td>\n",
       "      <td>2021.000000</td>\n",
       "    </tr>\n",
       "    <tr>\n",
       "      <th>25%</th>\n",
       "      <td>53518.000000</td>\n",
       "      <td>3.800000e+01</td>\n",
       "      <td>3.600000e+01</td>\n",
       "      <td>1.000000</td>\n",
       "      <td>1.000000</td>\n",
       "      <td>2.000000</td>\n",
       "      <td>0.000000</td>\n",
       "      <td>0.0</td>\n",
       "      <td>0.0</td>\n",
       "      <td>0.0</td>\n",
       "      <td>0.000000</td>\n",
       "      <td>-58.544408</td>\n",
       "      <td>-34.632289</td>\n",
       "      <td>6.568300e+03</td>\n",
       "      <td>2021.000000</td>\n",
       "    </tr>\n",
       "    <tr>\n",
       "      <th>50%</th>\n",
       "      <td>60083.000000</td>\n",
       "      <td>5.000000e+01</td>\n",
       "      <td>4.600000e+01</td>\n",
       "      <td>1.000000</td>\n",
       "      <td>1.000000</td>\n",
       "      <td>2.000000</td>\n",
       "      <td>0.000000</td>\n",
       "      <td>0.0</td>\n",
       "      <td>0.0</td>\n",
       "      <td>0.0</td>\n",
       "      <td>0.000000</td>\n",
       "      <td>-58.450050</td>\n",
       "      <td>-34.597882</td>\n",
       "      <td>9.169347e+03</td>\n",
       "      <td>2021.000000</td>\n",
       "    </tr>\n",
       "    <tr>\n",
       "      <th>75%</th>\n",
       "      <td>65662.000000</td>\n",
       "      <td>7.600000e+01</td>\n",
       "      <td>7.000000e+01</td>\n",
       "      <td>2.000000</td>\n",
       "      <td>1.000000</td>\n",
       "      <td>3.000000</td>\n",
       "      <td>1.000000</td>\n",
       "      <td>0.0</td>\n",
       "      <td>0.0</td>\n",
       "      <td>0.0</td>\n",
       "      <td>0.000000</td>\n",
       "      <td>-58.401102</td>\n",
       "      <td>-34.566600</td>\n",
       "      <td>1.883788e+04</td>\n",
       "      <td>2022.000000</td>\n",
       "    </tr>\n",
       "    <tr>\n",
       "      <th>max</th>\n",
       "      <td>97826.000000</td>\n",
       "      <td>3.321555e+08</td>\n",
       "      <td>2.287862e+09</td>\n",
       "      <td>99.000000</td>\n",
       "      <td>212.000000</td>\n",
       "      <td>212.000000</td>\n",
       "      <td>239.000000</td>\n",
       "      <td>0.0</td>\n",
       "      <td>0.0</td>\n",
       "      <td>0.0</td>\n",
       "      <td>1.000000</td>\n",
       "      <td>-58.159577</td>\n",
       "      <td>-34.385571</td>\n",
       "      <td>3.518759e+07</td>\n",
       "      <td>2022.000000</td>\n",
       "    </tr>\n",
       "  </tbody>\n",
       "</table>\n",
       "</div>"
      ],
      "text/plain": [
       "             id_grid      STotalM2     SConstrM2    Dormitorios   \n",
       "count  278725.000000  2.787050e+05  2.787050e+05  278725.000000  \\\n",
       "mean    59833.062739  3.739940e+03  3.356831e+04       1.422237   \n",
       "std     14774.014764  9.492445e+05  8.415217e+06       1.199622   \n",
       "min       124.000000  0.000000e+00  0.000000e+00       0.000000   \n",
       "25%     53518.000000  3.800000e+01  3.600000e+01       1.000000   \n",
       "50%     60083.000000  5.000000e+01  4.600000e+01       1.000000   \n",
       "75%     65662.000000  7.600000e+01  7.000000e+01       2.000000   \n",
       "max     97826.000000  3.321555e+08  2.287862e+09      99.000000   \n",
       "\n",
       "               Banos      Ambientes       Cocheras  PistaJogging     Lobby   \n",
       "count  278725.000000  278725.000000  278725.000000      188004.0  188004.0  \\\n",
       "mean        1.335632       2.389473       0.402454           0.0       0.0   \n",
       "std         1.023134       1.392421       2.088215           0.0       0.0   \n",
       "min        -1.000000       0.000000      -4.000000           0.0       0.0   \n",
       "25%         1.000000       2.000000       0.000000           0.0       0.0   \n",
       "50%         1.000000       2.000000       0.000000           0.0       0.0   \n",
       "75%         1.000000       3.000000       1.000000           0.0       0.0   \n",
       "max       212.000000     212.000000     239.000000           0.0       0.0   \n",
       "\n",
       "       LocalesComerciales  AreaParrillas      LONGITUDE       LATITUDE   \n",
       "count            188004.0  253676.000000  278725.000000  278725.000000  \\\n",
       "mean                  0.0       0.035301     -58.481580     -34.597932   \n",
       "std                   0.0       0.184540       0.115362       0.081715   \n",
       "min                   0.0       0.000000     -58.874595     -34.923504   \n",
       "25%                   0.0       0.000000     -58.544408     -34.632289   \n",
       "50%                   0.0       0.000000     -58.450050     -34.597882   \n",
       "75%                   0.0       0.000000     -58.401102     -34.566600   \n",
       "max                   0.0       1.000000     -58.159577     -34.385571   \n",
       "\n",
       "       precio_pesos_constantes           year  \n",
       "count             2.787250e+05  278725.000000  \n",
       "mean              8.088557e+04    2021.481776  \n",
       "std               6.675325e+05       0.499669  \n",
       "min               4.264038e+01    2021.000000  \n",
       "25%               6.568300e+03    2021.000000  \n",
       "50%               9.169347e+03    2021.000000  \n",
       "75%               1.883788e+04    2022.000000  \n",
       "max               3.518759e+07    2022.000000  "
      ]
     },
     "execution_count": 4,
     "metadata": {},
     "output_type": "execute_result"
    }
   ],
   "source": [
    "df.describe()"
   ]
  },
  {
   "cell_type": "code",
   "execution_count": 5,
   "metadata": {},
   "outputs": [
    {
     "name": "stdout",
     "output_type": "stream",
     "text": [
      "<class 'pandas.core.frame.DataFrame'>\n",
      "RangeIndex: 278725 entries, 0 to 278724\n",
      "Data columns (total 45 columns):\n",
      " #   Column                     Non-Null Count   Dtype  \n",
      "---  ------                     --------------   -----  \n",
      " 0   id_grid                    278725 non-null  int64  \n",
      " 1   MesListing                 278725 non-null  object \n",
      " 2   TIPOPROPIEDAD              278725 non-null  object \n",
      " 3   STotalM2                   278705 non-null  float64\n",
      " 4   SConstrM2                  278705 non-null  float64\n",
      " 5   Dormitorios                278725 non-null  int64  \n",
      " 6   Banos                      278725 non-null  int64  \n",
      " 7   Ambientes                  278725 non-null  int64  \n",
      " 8   SitioOrigen                188004 non-null  object \n",
      " 9   Amoblado                   246475 non-null  object \n",
      " 10  Antiguedad                 252752 non-null  object \n",
      " 11  Cisterna                   188004 non-null  object \n",
      " 12  AccesoInternet             247673 non-null  object \n",
      " 13  BusinessCenter             206667 non-null  object \n",
      " 14  Gimnasio                   244611 non-null  object \n",
      " 15  Laundry                    248350 non-null  object \n",
      " 16  Calefaccion                247440 non-null  object \n",
      " 17  SalonDeUsosMul             243126 non-null  object \n",
      " 18  AireAC                     250108 non-null  object \n",
      " 19  Recepcion                  207787 non-null  object \n",
      " 20  Estacionamiento            207321 non-null  object \n",
      " 21  Jacuzzi                    241971 non-null  object \n",
      " 22  AreaJuegosInfantiles       188004 non-null  object \n",
      " 23  Chimenea                   206789 non-null  object \n",
      " 24  Ascensor                   188004 non-null  object \n",
      " 25  SalonFiestas               207282 non-null  object \n",
      " 26  Seguridad                  243830 non-null  object \n",
      " 27  Pileta                     249453 non-null  object \n",
      " 28  Cocheras                   278725 non-null  int64  \n",
      " 29  PistaJogging               188004 non-null  float64\n",
      " 30  EstacionamientoVisitas     207321 non-null  object \n",
      " 31  Lobby                      188004 non-null  float64\n",
      " 32  LocalesComerciales         188004 non-null  float64\n",
      " 33  SistContraIncendios        188004 non-null  object \n",
      " 34  AreaParrillas              253676 non-null  float64\n",
      " 35  CanchaTennis               207147 non-null  object \n",
      " 36  AreaCine                   188004 non-null  object \n",
      " 37  ITE_ADD_CITY_NAME          278725 non-null  object \n",
      " 38  ITE_ADD_STATE_NAME         278725 non-null  object \n",
      " 39  ITE_ADD_NEIGHBORHOOD_NAME  265691 non-null  object \n",
      " 40  ITE_TIPO_PROD              278725 non-null  object \n",
      " 41  LONGITUDE                  278725 non-null  float64\n",
      " 42  LATITUDE                   278725 non-null  float64\n",
      " 43  precio_pesos_constantes    278725 non-null  float64\n",
      " 44  year                       278725 non-null  int64  \n",
      "dtypes: float64(9), int64(6), object(30)\n",
      "memory usage: 95.7+ MB\n"
     ]
    }
   ],
   "source": [
    "df.info()"
   ]
  },
  {
   "cell_type": "markdown",
   "metadata": {},
   "source": [
    "#### Datos faltantes por columna"
   ]
  },
  {
   "cell_type": "code",
   "execution_count": 6,
   "metadata": {},
   "outputs": [
    {
     "name": "stdout",
     "output_type": "stream",
     "text": [
      "id_grid                          0\n",
      "MesListing                       0\n",
      "TIPOPROPIEDAD                    0\n",
      "STotalM2                        20\n",
      "SConstrM2                       20\n",
      "Dormitorios                      0\n",
      "Banos                            0\n",
      "Ambientes                        0\n",
      "SitioOrigen                  90721\n",
      "Amoblado                     32250\n",
      "Antiguedad                   25973\n",
      "Cisterna                     90721\n",
      "AccesoInternet               31052\n",
      "BusinessCenter               72058\n",
      "Gimnasio                     34114\n",
      "Laundry                      30375\n",
      "Calefaccion                  31285\n",
      "SalonDeUsosMul               35599\n",
      "AireAC                       28617\n",
      "Recepcion                    70938\n",
      "Estacionamiento              71404\n",
      "Jacuzzi                      36754\n",
      "AreaJuegosInfantiles         90721\n",
      "Chimenea                     71936\n",
      "Ascensor                     90721\n",
      "SalonFiestas                 71443\n",
      "Seguridad                    34895\n",
      "Pileta                       29272\n",
      "Cocheras                         0\n",
      "PistaJogging                 90721\n",
      "EstacionamientoVisitas       71404\n",
      "Lobby                        90721\n",
      "LocalesComerciales           90721\n",
      "SistContraIncendios          90721\n",
      "AreaParrillas                25049\n",
      "CanchaTennis                 71578\n",
      "AreaCine                     90721\n",
      "ITE_ADD_CITY_NAME                0\n",
      "ITE_ADD_STATE_NAME               0\n",
      "ITE_ADD_NEIGHBORHOOD_NAME    13034\n",
      "ITE_TIPO_PROD                    0\n",
      "LONGITUDE                        0\n",
      "LATITUDE                         0\n",
      "precio_pesos_constantes          0\n",
      "year                             0\n",
      "dtype: int64\n"
     ]
    }
   ],
   "source": [
    "faltantes = df.isnull().sum()\n",
    "print(faltantes)"
   ]
  },
  {
   "cell_type": "markdown",
   "metadata": {},
   "source": [
    "### Limpieza de datos"
   ]
  },
  {
   "cell_type": "markdown",
   "metadata": {},
   "source": [
    "#### Se eliminan las filas duplicadas"
   ]
  },
  {
   "cell_type": "code",
   "execution_count": 7,
   "metadata": {},
   "outputs": [
    {
     "name": "stdout",
     "output_type": "stream",
     "text": [
      "Cantidad de filas después de eliminar duplicadas: 270722\n"
     ]
    }
   ],
   "source": [
    "df = df.drop_duplicates()\n",
    "print(f\"Cantidad de filas después de eliminar duplicadas: {len(df)}\")"
   ]
  },
  {
   "cell_type": "markdown",
   "metadata": {},
   "source": [
    "#### 1. Eliminacion de columnas\n",
    "Las columnas Longitud, Latitud y id_grid no van a ser necesarias para la implementacion del modelo ya que o contienen informacion redundante o demasiados abstracta para agregar precision de prediccion.\n",
    "\n",
    "Por otro lado optamos por eliminar la columna STATE_NAME ya que esta es muy parecida a la columna CITY_NAME la cual es mas precisa pero aun asi mostrando valores muy similares. Para no aprender lo mismo sacamos la menos precisa.\n"
   ]
  },
  {
   "cell_type": "code",
   "execution_count": 8,
   "metadata": {},
   "outputs": [],
   "source": [
    "df.drop(columns=['LONGITUDE'], inplace=True)\n",
    "df.drop(columns=['LATITUDE'], inplace=True)\n",
    "df.drop(columns=['id_grid'], inplace=True)"
   ]
  },
  {
   "cell_type": "markdown",
   "metadata": {},
   "source": [
    "#### 2. MesListing\n",
    "Se cambia a tipo de dato datetime. No hay valores faltantes. Tipo de datos: datetime64"
   ]
  },
  {
   "cell_type": "code",
   "execution_count": 9,
   "metadata": {},
   "outputs": [],
   "source": [
    "df['MesListing'] = pd.to_datetime(df['MesListing'])\n",
    "df['anio'] = df['MesListing'].dt.year\n",
    "df['mes'] = df['MesListing'].dt.month\n",
    "df['dia'] = df['MesListing'].dt.day\n",
    "df = df.drop(columns=['MesListing']) "
   ]
  },
  {
   "cell_type": "markdown",
   "metadata": {},
   "source": [
    "#### 3. TIPOPROPIEDAD\n",
    "Se elimina la columna ya que son todos departamentos y no agrega información."
   ]
  },
  {
   "cell_type": "code",
   "execution_count": 10,
   "metadata": {},
   "outputs": [],
   "source": [
    "df['TIPOPROPIEDAD'].unique()\n",
    "df.drop(columns=['TIPOPROPIEDAD'], inplace=True)"
   ]
  },
  {
   "cell_type": "markdown",
   "metadata": {},
   "source": [
    "#### 4. STotalM2\n",
    "Había 20 valores faltantes. Se eliminaron estas filas ya que no eran representativas. Hay otros 8227 valores que dice 00 que no tiene sentido por lo que se lo reemplaza con la media."
   ]
  },
  {
   "cell_type": "code",
   "execution_count": 11,
   "metadata": {},
   "outputs": [
    {
     "name": "stdout",
     "output_type": "stream",
     "text": [
      "El dataset tiene 270702 filas y 43 columnas.\n"
     ]
    }
   ],
   "source": [
    "df = df.dropna(subset=['STotalM2'])\n",
    "filas, columnas = df.shape\n",
    "print(f\"El dataset tiene {filas} filas y {columnas} columnas.\")\n"
   ]
  },
  {
   "cell_type": "code",
   "execution_count": 12,
   "metadata": {},
   "outputs": [
    {
     "name": "stdout",
     "output_type": "stream",
     "text": [
      "        STotalM2  SConstrM2  Dormitorios  Banos  Ambientes SitioOrigen   \n",
      "65           0.0       32.0            1      1          1           0  \\\n",
      "95           0.0       43.0            1      1          2           0   \n",
      "98           0.0       36.0            1      1          2           0   \n",
      "107          0.0       40.0            1      1          2           0   \n",
      "132          0.0      184.0            3      3          4           0   \n",
      "...          ...        ...          ...    ...        ...         ...   \n",
      "278591       0.0      100.0            3      2          4         0.0   \n",
      "278620       0.0       34.0            0      1          1           0   \n",
      "278643       0.0      150.0            3      3          4         0.0   \n",
      "278697       0.0       45.0            1      1          2         0.0   \n",
      "278705       0.0       82.0            3      1          3           0   \n",
      "\n",
      "       Amoblado Antiguedad Cisterna AccesoInternet  ... AreaCine   \n",
      "65           Sí     0 años        0             Sí  ...        0  \\\n",
      "95           No   110 años        0             No  ...        0   \n",
      "98           No    45 años        0             No  ...        0   \n",
      "107          No     4 años        0             Sí  ...        0   \n",
      "132          No    40 años        0             Sí  ...        0   \n",
      "...         ...        ...      ...            ...  ...      ...   \n",
      "278591       No     4 años        0             Sí  ...        0   \n",
      "278620       No     0 años        0             No  ...        0   \n",
      "278643       No    15 años        0             Sí  ...        0   \n",
      "278697       No     0 años        0             No  ...        0   \n",
      "278705       Sí    40 años        0             No  ...        0   \n",
      "\n",
      "       ITE_ADD_CITY_NAME   ITE_ADD_STATE_NAME ITE_ADD_NEIGHBORHOOD_NAME   \n",
      "65       Capital Federal      Capital Federal              Villa Lugano  \\\n",
      "95       Capital Federal      Capital Federal                   La Boca   \n",
      "98       Capital Federal      Capital Federal                   Palermo   \n",
      "107           Avellaneda    Bs.As. G.B.A. Sur                     Wilde   \n",
      "132      Capital Federal      Capital Federal             Palermo Chico   \n",
      "...                  ...                  ...                       ...   \n",
      "278591             Pilar  Bs.As. G.B.A. Norte                       NaN   \n",
      "278620   Capital Federal      Capital Federal                  Recoleta   \n",
      "278643             Tigre  Bs.As. G.B.A. Norte       Nordelta Portezuelo   \n",
      "278697     Vicente López  Bs.As. G.B.A. Norte                 La Lucila   \n",
      "278705   Capital Federal      Capital Federal                 Balvanera   \n",
      "\n",
      "       ITE_TIPO_PROD precio_pesos_constantes  year  anio mes dia  \n",
      "65                 N             8417.627218  2021  2021   7   1  \n",
      "95                 U             4532.912274  2021  2021  11   1  \n",
      "98                 U             6831.032027  2021  2021   6   1  \n",
      "107                U             5343.170342  2021  2021  10   1  \n",
      "132                U            48268.240450  2021  2021   5   1  \n",
      "...              ...                     ...   ...   ...  ..  ..  \n",
      "278591             U            41684.181142  2022  2022   4   1  \n",
      "278620             N            16036.382678  2021  2021   3   1  \n",
      "278643             U            34736.817618  2022  2022   4   1  \n",
      "278697             N            15049.196168  2022  2022   3   1  \n",
      "278705             U            21531.333301  2021  2021  11   1  \n",
      "\n",
      "[8132 rows x 43 columns]\n",
      "Cantidad de valores igual a cero en STotalM2 después de imputar: 0\n"
     ]
    }
   ],
   "source": [
    "df_ceros = df[df['STotalM2'] == 0]\n",
    "print(df_ceros)\n",
    "media_stotalm2 = df.loc[df['STotalM2'] > 0, 'STotalM2'].mean()\n",
    "df['STotalM2'] = df['STotalM2'].replace(0, media_stotalm2)\n",
    "print(f\"Cantidad de valores igual a cero en STotalM2 después de imputar: {(df['STotalM2'] == 0).sum()}\")"
   ]
  },
  {
   "cell_type": "markdown",
   "metadata": {},
   "source": [
    "#### 5. SConstrM2"
   ]
  },
  {
   "cell_type": "code",
   "execution_count": 13,
   "metadata": {},
   "outputs": [
    {
     "name": "stdout",
     "output_type": "stream",
     "text": [
      "Cantidad de valores igual a cero en STotalM2 después de imputar: 0\n"
     ]
    }
   ],
   "source": [
    "media_stotalm2 = df.loc[df['SConstrM2'] > 0, 'SConstrM2'].mean()\n",
    "df['SConstrM2'] = df['SConstrM2'].replace(0, media_stotalm2)\n",
    "print(f\"Cantidad de valores igual a cero en STotalM2 después de imputar: {(df['SConstrM2'] == 0).sum()}\")\n"
   ]
  },
  {
   "cell_type": "markdown",
   "metadata": {},
   "source": [
    "#### 6. Dormitorios\n",
    "Se borrarlon las filas con dormitorios> 40. Para los que estan entre 40 y 20 se analizó los M2 construídos y si tenía al menos 400 se conservó y sino se eliminó. Se eliminaron las filas con 0 dormitorios y 0 ambientes."
   ]
  },
  {
   "cell_type": "code",
   "execution_count": 14,
   "metadata": {},
   "outputs": [
    {
     "name": "stdout",
     "output_type": "stream",
     "text": [
      "Cantidad de filas eliminadas por STotalM2 menor a 400: 11\n",
      "Cantidad de filas restantes con Dormitorios == 0 y Ambientes == 0: 0\n"
     ]
    }
   ],
   "source": [
    "umbral_superficie = 400\n",
    "df_filtrar = df[(df['Dormitorios'] >= 20) & (df['Dormitorios'] <= 40)]\n",
    "a_eliminar = df_filtrar[df_filtrar['STotalM2'] < umbral_superficie]\n",
    "print(f\"Cantidad de filas eliminadas por STotalM2 menor a {umbral_superficie}: {len(a_eliminar)}\")\n",
    "df = df[~((df['Dormitorios'] >= 20) & (df['Dormitorios'] <= 40) & (df['STotalM2'] < umbral_superficie))]\n",
    "df = df[~((df['Dormitorios'] == 0) & (df['Ambientes'] == 0))]\n",
    "print(f\"Cantidad de filas restantes con Dormitorios == 0 y Ambientes == 0: {len(df[(df['Dormitorios'] == 0) & (df['Ambientes'] == 0)])}\")\n"
   ]
  },
  {
   "cell_type": "markdown",
   "metadata": {},
   "source": [
    "#### 7. Banos\n",
    "Se eliminaron las filas que contenian mas de 7 y menos de 0 baños."
   ]
  },
  {
   "cell_type": "code",
   "execution_count": 15,
   "metadata": {},
   "outputs": [],
   "source": [
    "df = df[df['Banos'] <= 7]\n",
    "df = df[df['Banos'] > 0]"
   ]
  },
  {
   "cell_type": "markdown",
   "metadata": {},
   "source": [
    "#### 8. Ambientes\n",
    "Se eliminan las filas en las que ambientes < dormitorios y que ambientes < baños y aquellas con mas de 30 ambientes."
   ]
  },
  {
   "cell_type": "code",
   "execution_count": 16,
   "metadata": {},
   "outputs": [],
   "source": [
    "df = df[~((df['Ambientes'] < df['Dormitorios']) | (df['Ambientes'] < df['Banos']))]\n",
    "df = df[~((df['Ambientes'] >= 30 )) ]"
   ]
  },
  {
   "cell_type": "markdown",
   "metadata": {},
   "source": [
    "#### 9. SitioOrigen\n",
    "Se elimina la columna ya que no aporta información relevamte. 99% de los datos faltantes."
   ]
  },
  {
   "cell_type": "code",
   "execution_count": 17,
   "metadata": {},
   "outputs": [],
   "source": [
    "df.drop(columns=['SitioOrigen'], inplace=True)"
   ]
  },
  {
   "cell_type": "markdown",
   "metadata": {},
   "source": [
    "#### 10. Antiguedad\n",
    "\n",
    "Se paso a números. Se eliminaron las filas con valores faltantes. Se eliminaron los valores mayores a 2024 y menores a 0. Para los que parecían ser años se hizo 2024 menos el año para obtener el número de antiguedad. Se paso a columna categorica del 1 al 5 (del más nuevo al más antiguo)."
   ]
  },
  {
   "cell_type": "code",
   "execution_count": 18,
   "metadata": {},
   "outputs": [],
   "source": [
    "df = df[df['Antiguedad'].notnull()]\n",
    "df['Antiguedad'] = df['Antiguedad'].replace(r'[^0-9.]', '', regex=True)\n",
    "df['Antiguedad'] = pd.to_numeric(df['Antiguedad'], errors='coerce').astype('Int64')\n",
    "df = df[~((df['Antiguedad'] > 2024) | (df['Antiguedad'] < 0))]"
   ]
  },
  {
   "cell_type": "code",
   "execution_count": 19,
   "metadata": {},
   "outputs": [],
   "source": [
    "ano_actual = 2024\n",
    "es_ano = df['Antiguedad'] >= 1700\n",
    "df.loc[es_ano, 'Antiguedad'] = ano_actual - df.loc[es_ano, 'Antiguedad']\n",
    "df['Antiguedad'] = df['Antiguedad'].astype(int)\n",
    "df = df[df['Antiguedad'] <= 500]"
   ]
  },
  {
   "cell_type": "code",
   "execution_count": 20,
   "metadata": {},
   "outputs": [],
   "source": [
    "def categorizar_antiguedad(antiguedad):\n",
    "    if antiguedad <= 5:\n",
    "        return 1  \n",
    "    elif 5 < antiguedad <= 15:\n",
    "        return 2  \n",
    "    elif 15 < antiguedad <= 40:\n",
    "        return 3  \n",
    "    elif 40 < antiguedad <= 80:\n",
    "        return 4  \n",
    "    else:\n",
    "        return 5  \n",
    "\n",
    "df['Antiguedad'] = df['Antiguedad'].apply(lambda x: categorizar_antiguedad(x) if pd.notnull(x) else None)"
   ]
  },
  {
   "cell_type": "markdown",
   "metadata": {},
   "source": [
    "#### 11. Cisterna\n",
    "Columna eliminada ya que la presencia de una cisterna probablemente tenga poco impacto directo en el precio de la propiedad y hay 58228 datos faltantes."
   ]
  },
  {
   "cell_type": "code",
   "execution_count": 21,
   "metadata": {},
   "outputs": [],
   "source": [
    "df.drop(columns=['Cisterna'], inplace=True)"
   ]
  },
  {
   "cell_type": "markdown",
   "metadata": {},
   "source": [
    "#### 12. Función que convierte a un valor apropiado las columnas que tienen como valores si, no ,1 ,0. "
   ]
  },
  {
   "cell_type": "code",
   "execution_count": 22,
   "metadata": {},
   "outputs": [],
   "source": [
    "def pasar_binarios(x):\n",
    "    df[x] = df[x].replace({\n",
    "        '0.0': 0, 'No': 0, '0': 0, '   0': 0, \n",
    "        '1.0': 1, '1': 1, 'Sí': 1\n",
    "    })\n",
    "    df[x] = pd.to_numeric(df[x], errors='coerce')\n",
    "    df[x] = df[x].fillna(0)\n",
    "    df[x].value_counts()\n",
    "x = ['AreaJuegosInfantiles','Chimenea','Ascensor','SalonFiestas','Seguridad','Pileta','Cocheras','PistaJogging','EstacionamientoVisitas','Lobby','AreaParrillas','CanchaTennis','AreaCine', 'LocalesComerciales', 'Amoblado','Jacuzzi', 'AccesoInternet','BusinessCenter', 'Gimnasio', 'Laundry', 'Calefaccion', 'SalonDeUsosMul', 'AireAC', 'Recepcion', 'Estacionamiento']\n",
    "for i in x:\n",
    "    pasar_binarios(i)"
   ]
  },
  {
   "cell_type": "markdown",
   "metadata": {},
   "source": [
    "#### 13. SistContraIncendios\n",
    "Se elimina la columna ya que no tiene mucha info"
   ]
  },
  {
   "cell_type": "code",
   "execution_count": 23,
   "metadata": {},
   "outputs": [],
   "source": [
    "df.drop(columns=['SistContraIncendios'], inplace=True)"
   ]
  },
  {
   "cell_type": "markdown",
   "metadata": {},
   "source": [
    "#### 14. ITE_TIPO_PROD\n",
    "Se paso a valores 0, 1 y 2."
   ]
  },
  {
   "cell_type": "code",
   "execution_count": 24,
   "metadata": {},
   "outputs": [],
   "source": [
    "df['ITE_TIPO_PROD'] = df['ITE_TIPO_PROD'].map({'N': 1, 'U': 2, 'S': 0})\n"
   ]
  },
  {
   "cell_type": "markdown",
   "metadata": {},
   "source": [
    "#### 15. Year\n",
    "Se elimin la columna porque solo hay años 2022 y 2021\n"
   ]
  },
  {
   "cell_type": "code",
   "execution_count": 25,
   "metadata": {},
   "outputs": [],
   "source": [
    "df.drop(columns=['year'], inplace=True)\n"
   ]
  },
  {
   "cell_type": "markdown",
   "metadata": {},
   "source": [
    "#### 16. ITE_ADD_STATE_NAME\n",
    "One hot para las 4 zonas.\n",
    "Capital Federal        143041\n",
    "Bs.As. G.B.A. Norte     43576\n",
    "Bs.As. G.B.A. Oeste     30029\n",
    "Bs.As. G.B.A. Sur       23885\n"
   ]
  },
  {
   "cell_type": "code",
   "execution_count": 26,
   "metadata": {},
   "outputs": [],
   "source": [
    "df = pd.get_dummies(df, columns=['ITE_ADD_STATE_NAME'], prefix='state')"
   ]
  },
  {
   "cell_type": "markdown",
   "metadata": {},
   "source": [
    "#### 17. ITE_ADD_CITY_NAME\n",
    "Se agruparon las ciudades con menos de 1000 propiedades en la categoria 'otros' y se hizo one-hot."
   ]
  },
  {
   "cell_type": "code",
   "execution_count": 27,
   "metadata": {},
   "outputs": [],
   "source": [
    "threshold = 1000\n",
    "city_counts = df['ITE_ADD_CITY_NAME'].value_counts()\n",
    "df['ITE_ADD_CITY_NAME'] = df['ITE_ADD_CITY_NAME'].apply(\n",
    "    lambda x: x if city_counts[x] >= threshold else 'Otros'\n",
    ")\n",
    "df = pd.get_dummies(df, columns=['ITE_ADD_CITY_NAME'], prefix='city')\n"
   ]
  },
  {
   "cell_type": "markdown",
   "metadata": {},
   "source": [
    "#### 18. Precios\n",
    "\n",
    "Se detectó la presencia de outliers y se eliminaron."
   ]
  },
  {
   "cell_type": "code",
   "execution_count": 28,
   "metadata": {},
   "outputs": [],
   "source": [
    "lower_bound = 50000  \n",
    "upper_bound = 1700000  \n",
    "\n",
    "df = df[(df['precio_pesos_constantes'] >= lower_bound) & \n",
    "        (df['precio_pesos_constantes'] <= upper_bound)]"
   ]
  },
  {
   "cell_type": "markdown",
   "metadata": {},
   "source": [
    "#### 20. Agrego más features"
   ]
  },
  {
   "cell_type": "markdown",
   "metadata": {},
   "source": [
    "Más features relacionadas con los M2"
   ]
  },
  {
   "cell_type": "code",
   "execution_count": 29,
   "metadata": {},
   "outputs": [],
   "source": [
    "df = df[df['SConstrM2'] <= df['STotalM2']]\n",
    "\n",
    "df['SNoConstrM2'] = df['STotalM2'] - df['SConstrM2']\n",
    "df['SConstrRatio'] = df['SConstrM2'] / df['STotalM2']\n",
    "df['SNoConstrRatio'] = 1 - df['SConstrRatio']"
   ]
  },
  {
   "cell_type": "markdown",
   "metadata": {},
   "source": [
    "Agrego una columan que contenga todos los servicios juntos."
   ]
  },
  {
   "cell_type": "code",
   "execution_count": 30,
   "metadata": {},
   "outputs": [],
   "source": [
    "x = ['AreaJuegosInfantiles', 'Chimenea', 'Ascensor', 'SalonFiestas', 'Seguridad', \n",
    "     'Pileta', 'Cocheras', 'PistaJogging', 'EstacionamientoVisitas', 'Lobby', \n",
    "     'AreaParrillas', 'CanchaTennis', 'AreaCine', 'LocalesComerciales', 'Amoblado', \n",
    "     'Jacuzzi', 'AccesoInternet', 'BusinessCenter', 'Gimnasio', 'Laundry', \n",
    "     'Calefaccion', 'SalonDeUsosMul', 'AireAC', 'Recepcion', 'Estacionamiento']\n",
    "\n",
    "df['TieneServicios'] = df[x].any(axis=1).astype(int)"
   ]
  },
  {
   "cell_type": "code",
   "execution_count": 31,
   "metadata": {},
   "outputs": [],
   "source": [
    "df = df.dropna(subset=['ITE_ADD_NEIGHBORHOOD_NAME'])\n",
    "y = df['precio_pesos_constantes']\n",
    "\n",
    "X_train, X_test, y_train, y_test = train_test_split(df, y, test_size=0.2, random_state=42)"
   ]
  },
  {
   "cell_type": "code",
   "execution_count": 32,
   "metadata": {},
   "outputs": [],
   "source": [
    "mean_encoding = X_train.groupby('ITE_ADD_NEIGHBORHOOD_NAME')['precio_pesos_constantes'].mean()\n",
    "mean_m2 = X_train.groupby('ITE_ADD_NEIGHBORHOOD_NAME')['STotalM2'].mean()"
   ]
  },
  {
   "cell_type": "code",
   "execution_count": 33,
   "metadata": {},
   "outputs": [],
   "source": [
    "X_train['mean_precio'] = X_train['ITE_ADD_NEIGHBORHOOD_NAME'].map(mean_encoding)\n",
    "X_train['mean_m2'] = X_train['ITE_ADD_NEIGHBORHOOD_NAME'].map(mean_m2)\n",
    "X_train['mean_p/m2'] = X_train['mean_precio'] / X_train['mean_m2']\n",
    "X_test['mean_precio'] = X_test['ITE_ADD_NEIGHBORHOOD_NAME'].map(mean_encoding)\n",
    "X_test['mean_m2'] = X_test['ITE_ADD_NEIGHBORHOOD_NAME'].map(mean_m2)\n",
    "X_test['mean_p/m2'] = X_test['mean_precio'] / X_test['mean_m2']"
   ]
  },
  {
   "cell_type": "code",
   "execution_count": 34,
   "metadata": {},
   "outputs": [],
   "source": [
    "X_train.drop(columns=['mean_precio'], inplace=True)\n",
    "X_train.drop(columns=['mean_m2'], inplace=True)\n",
    "X_test.drop(columns=['mean_precio'], inplace=True)\n",
    "X_test.drop(columns=['mean_m2'], inplace=True)\n",
    "X_train.drop(columns=['ITE_ADD_NEIGHBORHOOD_NAME'], inplace=True)\n",
    "X_test.drop(columns=['ITE_ADD_NEIGHBORHOOD_NAME'], inplace=True)\n",
    "X_train.drop(columns = ['precio_pesos_constantes'], inplace=True)\n",
    "X_test.drop(columns = ['precio_pesos_constantes'], inplace=True)"
   ]
  },
  {
   "cell_type": "markdown",
   "metadata": {},
   "source": [
    "Elimino cualquier fila que contenga un valor faltante. Unicamente de chequeo"
   ]
  },
  {
   "cell_type": "code",
   "execution_count": 35,
   "metadata": {},
   "outputs": [],
   "source": [
    "def eliminar_filas_con_nan(X_train, X_test, y_train, y_test):\n",
    "    \"\"\"\n",
    "    Elimina filas con valores NaN de los conjuntos X_train, X_test, y_train, y_test.\n",
    "    Asegura que las eliminaciones sean consistentes entre X e y.\n",
    "\n",
    "    Parámetros:\n",
    "        X_train (pd.DataFrame): Conjunto de entrenamiento de features.\n",
    "        X_test (pd.DataFrame): Conjunto de prueba de features.\n",
    "        y_train (pd.Series): Conjunto de entrenamiento de labels.\n",
    "        y_test (pd.Series): Conjunto de prueba de labels.\n",
    "\n",
    "    Retorna:\n",
    "        tuple: X_train, X_test, y_train, y_test limpios.\n",
    "    \"\"\"\n",
    "    train = pd.concat([X_train, y_train], axis=1)\n",
    "    train = train.dropna()\n",
    "    X_train = train.iloc[:, :-1]  \n",
    "    y_train = train.iloc[:, -1]   \n",
    "\n",
    "    test = pd.concat([X_test, y_test], axis=1)\n",
    "    test = test.dropna()\n",
    "    X_test = test.iloc[:, :-1]  \n",
    "    y_test = test.iloc[:, -1]   \n",
    "\n",
    "    return X_train, X_test, y_train, y_test\n",
    "\n",
    "X_train, X_test, y_train, y_test = eliminar_filas_con_nan(X_train, X_test, y_train, y_test)"
   ]
  },
  {
   "cell_type": "markdown",
   "metadata": {},
   "source": [
    "## Una vez finalizado el Preprocesamiento lo paso a CSV"
   ]
  },
  {
   "cell_type": "code",
   "execution_count": 36,
   "metadata": {},
   "outputs": [],
   "source": [
    "#df.to_csv('/Users/victoria/Desktop/alquiler_procesado.csv', index=False)"
   ]
  },
  {
   "cell_type": "code",
   "execution_count": 37,
   "metadata": {},
   "outputs": [],
   "source": [
    "X_train.to_csv('/Users/benjavitale/Documents/ML/TP_F/alquiler_procesado_Xtrain.csv', index=False)\n",
    "X_test.to_csv('/Users/benjavitale/Documents/ML/TP_F/alquiler_procesado_Xtest.csv', index=False)\n",
    "\n",
    "y_train.to_csv('/Users/benjavitale/Documents/ML/TP_F/alquiler_procesado_ytrain.csv', index=False)\n",
    "y_test.to_csv('/Users/benjavitale/Documents/ML/TP_F/alquiler_procesado_ytest.csv', index=False)"
   ]
  },
  {
   "cell_type": "code",
   "execution_count": 43,
   "metadata": {},
   "outputs": [
    {
     "data": {
      "text/plain": [
       "['mean.precio.pkl']"
      ]
     },
     "execution_count": 43,
     "metadata": {},
     "output_type": "execute_result"
    }
   ],
   "source": [
    "import joblib\n",
    "joblib.dump(mean_encoding, 'mean.pkl')\n",
    "joblib.dump(mean_m2,'m2.pkl')\n",
    "joblib.dump(media_stotalm2,'m2media.pkl')\n",
    "joblib.dump(media_stotalm2,'media_stotalm2.pkl')\n",
    "joblib.dump(X_train['STotalM2'].mean(),'mean_m2_tot.pkl')\n",
    "joblib.dump(y_train.mean(),'mean_precio.pkl')"
   ]
  }
 ],
 "metadata": {
  "kernelspec": {
   "display_name": "Python 3.10.5 64-bit",
   "language": "python",
   "name": "python3"
  },
  "language_info": {
   "codemirror_mode": {
    "name": "ipython",
    "version": 3
   },
   "file_extension": ".py",
   "mimetype": "text/x-python",
   "name": "python",
   "nbconvert_exporter": "python",
   "pygments_lexer": "ipython3",
   "version": "3.10.5"
  },
  "vscode": {
   "interpreter": {
    "hash": "7e1998ff7f8aa20ada591c520b972326324e5ea05489af9e422744c7c09f6dad"
   }
  }
 },
 "nbformat": 4,
 "nbformat_minor": 2
}
