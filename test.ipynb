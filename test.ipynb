{
 "cells": [
  {
   "cell_type": "code",
   "execution_count": 5,
   "metadata": {},
   "outputs": [
    {
     "name": "stdout",
     "output_type": "stream",
     "text": [
      "['Departamento']\n"
     ]
    }
   ],
   "source": [
    "import pandas as pd\n",
    "\n",
    "path = '/Users/benjavitale/Documents/ML/TP_F/alquiler_AMBA_test.csv'\n",
    "df_original = pd.read_csv(path, low_memory=False)\n",
    "df = df_original\n",
    "faltantes = df.isnull().sum()\n"
   ]
  },
  {
   "cell_type": "code",
   "execution_count": null,
   "metadata": {},
   "outputs": [],
   "source": [
    "df.drop(columns=['LONGITUDE'], inplace=True)\n",
    "df.drop(columns=['LATITUDE'], inplace=True)\n",
    "df.drop(columns=['id_grid'], inplace=True)\n",
    "df.drop(columns=['TIPOPROPIEDAD'], inplace=True)"
   ]
  },
  {
   "cell_type": "code",
   "execution_count": null,
   "metadata": {},
   "outputs": [],
   "source": [
    "df['MesListing'] = pd.to_datetime(df['MesListing'])\n",
    "df['anio'] = df['MesListing'].dt.year\n",
    "df['mes'] = df['MesListing'].dt.month\n",
    "df['dia'] = df['MesListing'].dt.day\n",
    "df = df.drop(columns=['MesListing']) \n",
    "\n",
    "\n",
    "\n",
    "\n",
    "df = df[df['SConstrM2'] <= df['STotalM2']]\n",
    "\n",
    "df['SNoConstrM2'] = df['STotalM2'] - df['SConstrM2']\n",
    "df['SConstrRatio'] = df['SConstrM2'] / df['STotalM2']\n",
    "df['SNoConstrRatio'] = 1 - df['SConstrRatio']\n",
    "\n",
    "\n",
    "x = ['AreaJuegosInfantiles', 'Chimenea', 'Ascensor', 'SalonFiestas', 'Seguridad', \n",
    "     'Pileta', 'Cocheras', 'PistaJogging', 'EstacionamientoVisitas', 'Lobby', \n",
    "     'AreaParrillas', 'CanchaTennis', 'AreaCine', 'LocalesComerciales', 'Amoblado', \n",
    "     'Jacuzzi', 'AccesoInternet', 'BusinessCenter', 'Gimnasio', 'Laundry', \n",
    "     'Calefaccion', 'SalonDeUsosMul', 'AireAC', 'Recepcion', 'Estacionamiento']\n",
    "\n",
    "df['TieneServicios'] = df[x].any(axis=1).astype(int)"
   ]
  }
 ],
 "metadata": {
  "kernelspec": {
   "display_name": "Python 3.10.5 64-bit",
   "language": "python",
   "name": "python3"
  },
  "language_info": {
   "codemirror_mode": {
    "name": "ipython",
    "version": 3
   },
   "file_extension": ".py",
   "mimetype": "text/x-python",
   "name": "python",
   "nbconvert_exporter": "python",
   "pygments_lexer": "ipython3",
   "version": "3.10.5"
  },
  "orig_nbformat": 4,
  "vscode": {
   "interpreter": {
    "hash": "7e1998ff7f8aa20ada591c520b972326324e5ea05489af9e422744c7c09f6dad"
   }
  }
 },
 "nbformat": 4,
 "nbformat_minor": 2
}
