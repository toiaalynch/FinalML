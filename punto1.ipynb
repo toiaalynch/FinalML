{
 "cells": [
  {
   "cell_type": "code",
   "execution_count": 6,
   "metadata": {},
   "outputs": [],
   "source": [
    "import pandas as pd\n",
    "\n",
    "\"path_toia = '/Users/victoria/Desktop/alquiler_AMBA_dev.csv'\"\n",
    "path_toia = '/Users/benjavitale/Documents/ML/TP_F/alquiler_AMBA_dev.csv'\n",
    "df = pd.read_csv(path_toia, low_memory=False)\n",
    "df.head()\n",
    "# Supongamos que tienes este DataFrame de propiedades con sus precios y ubicaciones:\n",
    "# Carga tus datos reales aquí\n",
    "# Manejo de Outliers\n",
    "lower_bound = 50000  \n",
    "upper_bound = 1700000  \n",
    "\n",
    "df = df[(df['precio_pesos_constantes'] >= lower_bound) & \n",
    "        (df['precio_pesos_constantes'] <= upper_bound)]"
   ]
  },
  {
   "cell_type": "code",
   "execution_count": 7,
   "metadata": {},
   "outputs": [],
   "source": [
    "import folium\n",
    "from folium.plugins import HeatMap\n",
    "import pandas as pd\n",
    "\n",
    "\n",
    "\n",
    "# 1. Calcular el precio promedio por id_grid\n",
    "precios_por_grid = df.groupby('id_grid').agg(\n",
    "    Precio_Promedio=('precio_pesos_constantes', 'mean'),\n",
    "    Latitud=('LATITUDE', 'mean'),\n",
    "    Longitud=('LONGITUDE', 'mean')\n",
    ").reset_index()\n",
    "\n",
    "# 2. Cargar el mapa base\n",
    "mapa = folium.Map(location=[-34.6, -58.4], zoom_start=10)\n",
    "\n",
    "# 3. Crear los datos del HeatMap\n",
    "heat_data = [\n",
    "    [row['Latitud'], row['Longitud'], row['Precio_Promedio']]\n",
    "    for _, row in precios_por_grid.iterrows()\n",
    "]\n",
    "\n",
    "# 4. Agregar el HeatMap al mapa\n",
    "HeatMap(heat_data, radius=15, max_zoom=13).add_to(mapa)\n",
    "\n",
    "# 5. Guardar el mapa con el heatmap\n",
    "mapa.save(\"mapa_con_precios_por_grid.html\")\n"
   ]
  }
 ],
 "metadata": {
  "kernelspec": {
   "display_name": "Python 3.10.5 64-bit",
   "language": "python",
   "name": "python3"
  },
  "language_info": {
   "codemirror_mode": {
    "name": "ipython",
    "version": 3
   },
   "file_extension": ".py",
   "mimetype": "text/x-python",
   "name": "python",
   "nbconvert_exporter": "python",
   "pygments_lexer": "ipython3",
   "version": "3.10.5"
  },
  "orig_nbformat": 4,
  "vscode": {
   "interpreter": {
    "hash": "7e1998ff7f8aa20ada591c520b972326324e5ea05489af9e422744c7c09f6dad"
   }
  }
 },
 "nbformat": 4,
 "nbformat_minor": 2
}
