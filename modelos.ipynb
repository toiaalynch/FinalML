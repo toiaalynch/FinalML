{
 "cells": [
  {
   "cell_type": "markdown",
   "metadata": {},
   "source": [
    "# Modelos para entrenar"
   ]
  },
  {
   "cell_type": "markdown",
   "metadata": {},
   "source": [
    "#### Importar librerías"
   ]
  },
  {
   "cell_type": "code",
   "execution_count": 50,
   "metadata": {},
   "outputs": [],
   "source": [
    "from sklearn.linear_model import LinearRegression\n",
    "from sklearn.ensemble import RandomForestRegressor\n",
    "from sklearn.model_selection import train_test_split\n",
    "from sklearn.metrics import mean_squared_error\n",
    "from sklearn.metrics import mean_absolute_error, mean_squared_error, r2_score\n",
    "import pandas as pd\n",
    "import numpy as np\n"
   ]
  },
  {
   "cell_type": "markdown",
   "metadata": {},
   "source": [
    "#### División del Dataset"
   ]
  },
  {
   "cell_type": "code",
   "execution_count": 51,
   "metadata": {},
   "outputs": [
    {
     "ename": "FileNotFoundError",
     "evalue": "[Errno 2] No such file or directory: '/Users/victoria/Desktop/alquiler_procesado.csv'",
     "output_type": "error",
     "traceback": [
      "\u001b[0;31m---------------------------------------------------------------------------\u001b[0m",
      "\u001b[0;31mFileNotFoundError\u001b[0m                         Traceback (most recent call last)",
      "Cell \u001b[0;32mIn[51], line 2\u001b[0m\n\u001b[1;32m      1\u001b[0m path_toia \u001b[38;5;241m=\u001b[39m \u001b[38;5;124m'\u001b[39m\u001b[38;5;124m/Users/victoria/Desktop/alquiler_procesado.csv\u001b[39m\u001b[38;5;124m'\u001b[39m\n\u001b[0;32m----> 2\u001b[0m df \u001b[38;5;241m=\u001b[39m \u001b[43mpd\u001b[49m\u001b[38;5;241;43m.\u001b[39;49m\u001b[43mread_csv\u001b[49m\u001b[43m(\u001b[49m\u001b[43mpath_toia\u001b[49m\u001b[43m,\u001b[49m\u001b[43m \u001b[49m\u001b[43mlow_memory\u001b[49m\u001b[38;5;241;43m=\u001b[39;49m\u001b[38;5;28;43;01mFalse\u001b[39;49;00m\u001b[43m)\u001b[49m\n",
      "File \u001b[0;32m/Library/Frameworks/Python.framework/Versions/3.10/lib/python3.10/site-packages/pandas/io/parsers/readers.py:912\u001b[0m, in \u001b[0;36mread_csv\u001b[0;34m(filepath_or_buffer, sep, delimiter, header, names, index_col, usecols, dtype, engine, converters, true_values, false_values, skipinitialspace, skiprows, skipfooter, nrows, na_values, keep_default_na, na_filter, verbose, skip_blank_lines, parse_dates, infer_datetime_format, keep_date_col, date_parser, date_format, dayfirst, cache_dates, iterator, chunksize, compression, thousands, decimal, lineterminator, quotechar, quoting, doublequote, escapechar, comment, encoding, encoding_errors, dialect, on_bad_lines, delim_whitespace, low_memory, memory_map, float_precision, storage_options, dtype_backend)\u001b[0m\n\u001b[1;32m    899\u001b[0m kwds_defaults \u001b[39m=\u001b[39m _refine_defaults_read(\n\u001b[1;32m    900\u001b[0m     dialect,\n\u001b[1;32m    901\u001b[0m     delimiter,\n\u001b[0;32m   (...)\u001b[0m\n\u001b[1;32m    908\u001b[0m     dtype_backend\u001b[39m=\u001b[39mdtype_backend,\n\u001b[1;32m    909\u001b[0m )\n\u001b[1;32m    910\u001b[0m kwds\u001b[39m.\u001b[39mupdate(kwds_defaults)\n\u001b[0;32m--> 912\u001b[0m \u001b[39mreturn\u001b[39;00m _read(filepath_or_buffer, kwds)\n",
      "File \u001b[0;32m/Library/Frameworks/Python.framework/Versions/3.10/lib/python3.10/site-packages/pandas/io/parsers/readers.py:577\u001b[0m, in \u001b[0;36m_read\u001b[0;34m(filepath_or_buffer, kwds)\u001b[0m\n\u001b[1;32m    574\u001b[0m _validate_names(kwds\u001b[39m.\u001b[39mget(\u001b[39m\"\u001b[39m\u001b[39mnames\u001b[39m\u001b[39m\"\u001b[39m, \u001b[39mNone\u001b[39;00m))\n\u001b[1;32m    576\u001b[0m \u001b[39m# Create the parser.\u001b[39;00m\n\u001b[0;32m--> 577\u001b[0m parser \u001b[39m=\u001b[39m TextFileReader(filepath_or_buffer, \u001b[39m*\u001b[39;49m\u001b[39m*\u001b[39;49mkwds)\n\u001b[1;32m    579\u001b[0m \u001b[39mif\u001b[39;00m chunksize \u001b[39mor\u001b[39;00m iterator:\n\u001b[1;32m    580\u001b[0m     \u001b[39mreturn\u001b[39;00m parser\n",
      "File \u001b[0;32m/Library/Frameworks/Python.framework/Versions/3.10/lib/python3.10/site-packages/pandas/io/parsers/readers.py:1407\u001b[0m, in \u001b[0;36mTextFileReader.__init__\u001b[0;34m(self, f, engine, **kwds)\u001b[0m\n\u001b[1;32m   1404\u001b[0m     \u001b[39mself\u001b[39m\u001b[39m.\u001b[39moptions[\u001b[39m\"\u001b[39m\u001b[39mhas_index_names\u001b[39m\u001b[39m\"\u001b[39m] \u001b[39m=\u001b[39m kwds[\u001b[39m\"\u001b[39m\u001b[39mhas_index_names\u001b[39m\u001b[39m\"\u001b[39m]\n\u001b[1;32m   1406\u001b[0m \u001b[39mself\u001b[39m\u001b[39m.\u001b[39mhandles: IOHandles \u001b[39m|\u001b[39m \u001b[39mNone\u001b[39;00m \u001b[39m=\u001b[39m \u001b[39mNone\u001b[39;00m\n\u001b[0;32m-> 1407\u001b[0m \u001b[39mself\u001b[39m\u001b[39m.\u001b[39m_engine \u001b[39m=\u001b[39m \u001b[39mself\u001b[39;49m\u001b[39m.\u001b[39;49m_make_engine(f, \u001b[39mself\u001b[39;49m\u001b[39m.\u001b[39;49mengine)\n",
      "File \u001b[0;32m/Library/Frameworks/Python.framework/Versions/3.10/lib/python3.10/site-packages/pandas/io/parsers/readers.py:1661\u001b[0m, in \u001b[0;36mTextFileReader._make_engine\u001b[0;34m(self, f, engine)\u001b[0m\n\u001b[1;32m   1659\u001b[0m     \u001b[39mif\u001b[39;00m \u001b[39m\"\u001b[39m\u001b[39mb\u001b[39m\u001b[39m\"\u001b[39m \u001b[39mnot\u001b[39;00m \u001b[39min\u001b[39;00m mode:\n\u001b[1;32m   1660\u001b[0m         mode \u001b[39m+\u001b[39m\u001b[39m=\u001b[39m \u001b[39m\"\u001b[39m\u001b[39mb\u001b[39m\u001b[39m\"\u001b[39m\n\u001b[0;32m-> 1661\u001b[0m \u001b[39mself\u001b[39m\u001b[39m.\u001b[39mhandles \u001b[39m=\u001b[39m get_handle(\n\u001b[1;32m   1662\u001b[0m     f,\n\u001b[1;32m   1663\u001b[0m     mode,\n\u001b[1;32m   1664\u001b[0m     encoding\u001b[39m=\u001b[39;49m\u001b[39mself\u001b[39;49m\u001b[39m.\u001b[39;49moptions\u001b[39m.\u001b[39;49mget(\u001b[39m\"\u001b[39;49m\u001b[39mencoding\u001b[39;49m\u001b[39m\"\u001b[39;49m, \u001b[39mNone\u001b[39;49;00m),\n\u001b[1;32m   1665\u001b[0m     compression\u001b[39m=\u001b[39;49m\u001b[39mself\u001b[39;49m\u001b[39m.\u001b[39;49moptions\u001b[39m.\u001b[39;49mget(\u001b[39m\"\u001b[39;49m\u001b[39mcompression\u001b[39;49m\u001b[39m\"\u001b[39;49m, \u001b[39mNone\u001b[39;49;00m),\n\u001b[1;32m   1666\u001b[0m     memory_map\u001b[39m=\u001b[39;49m\u001b[39mself\u001b[39;49m\u001b[39m.\u001b[39;49moptions\u001b[39m.\u001b[39;49mget(\u001b[39m\"\u001b[39;49m\u001b[39mmemory_map\u001b[39;49m\u001b[39m\"\u001b[39;49m, \u001b[39mFalse\u001b[39;49;00m),\n\u001b[1;32m   1667\u001b[0m     is_text\u001b[39m=\u001b[39;49mis_text,\n\u001b[1;32m   1668\u001b[0m     errors\u001b[39m=\u001b[39;49m\u001b[39mself\u001b[39;49m\u001b[39m.\u001b[39;49moptions\u001b[39m.\u001b[39;49mget(\u001b[39m\"\u001b[39;49m\u001b[39mencoding_errors\u001b[39;49m\u001b[39m\"\u001b[39;49m, \u001b[39m\"\u001b[39;49m\u001b[39mstrict\u001b[39;49m\u001b[39m\"\u001b[39;49m),\n\u001b[1;32m   1669\u001b[0m     storage_options\u001b[39m=\u001b[39;49m\u001b[39mself\u001b[39;49m\u001b[39m.\u001b[39;49moptions\u001b[39m.\u001b[39;49mget(\u001b[39m\"\u001b[39;49m\u001b[39mstorage_options\u001b[39;49m\u001b[39m\"\u001b[39;49m, \u001b[39mNone\u001b[39;49;00m),\n\u001b[1;32m   1670\u001b[0m )\n\u001b[1;32m   1671\u001b[0m \u001b[39massert\u001b[39;00m \u001b[39mself\u001b[39m\u001b[39m.\u001b[39mhandles \u001b[39mis\u001b[39;00m \u001b[39mnot\u001b[39;00m \u001b[39mNone\u001b[39;00m\n\u001b[1;32m   1672\u001b[0m f \u001b[39m=\u001b[39m \u001b[39mself\u001b[39m\u001b[39m.\u001b[39mhandles\u001b[39m.\u001b[39mhandle\n",
      "File \u001b[0;32m/Library/Frameworks/Python.framework/Versions/3.10/lib/python3.10/site-packages/pandas/io/common.py:859\u001b[0m, in \u001b[0;36mget_handle\u001b[0;34m(path_or_buf, mode, encoding, compression, memory_map, is_text, errors, storage_options)\u001b[0m\n\u001b[1;32m    854\u001b[0m \u001b[39melif\u001b[39;00m \u001b[39misinstance\u001b[39m(handle, \u001b[39mstr\u001b[39m):\n\u001b[1;32m    855\u001b[0m     \u001b[39m# Check whether the filename is to be opened in binary mode.\u001b[39;00m\n\u001b[1;32m    856\u001b[0m     \u001b[39m# Binary mode does not support 'encoding' and 'newline'.\u001b[39;00m\n\u001b[1;32m    857\u001b[0m     \u001b[39mif\u001b[39;00m ioargs\u001b[39m.\u001b[39mencoding \u001b[39mand\u001b[39;00m \u001b[39m\"\u001b[39m\u001b[39mb\u001b[39m\u001b[39m\"\u001b[39m \u001b[39mnot\u001b[39;00m \u001b[39min\u001b[39;00m ioargs\u001b[39m.\u001b[39mmode:\n\u001b[1;32m    858\u001b[0m         \u001b[39m# Encoding\u001b[39;00m\n\u001b[0;32m--> 859\u001b[0m         handle \u001b[39m=\u001b[39m \u001b[39mopen\u001b[39;49m(\n\u001b[1;32m    860\u001b[0m             handle,\n\u001b[1;32m    861\u001b[0m             ioargs\u001b[39m.\u001b[39;49mmode,\n\u001b[1;32m    862\u001b[0m             encoding\u001b[39m=\u001b[39;49mioargs\u001b[39m.\u001b[39;49mencoding,\n\u001b[1;32m    863\u001b[0m             errors\u001b[39m=\u001b[39;49merrors,\n\u001b[1;32m    864\u001b[0m             newline\u001b[39m=\u001b[39;49m\u001b[39m\"\u001b[39;49m\u001b[39m\"\u001b[39;49m,\n\u001b[1;32m    865\u001b[0m         )\n\u001b[1;32m    866\u001b[0m     \u001b[39melse\u001b[39;00m:\n\u001b[1;32m    867\u001b[0m         \u001b[39m# Binary mode\u001b[39;00m\n\u001b[1;32m    868\u001b[0m         handle \u001b[39m=\u001b[39m \u001b[39mopen\u001b[39m(handle, ioargs\u001b[39m.\u001b[39mmode)\n",
      "\u001b[0;31mFileNotFoundError\u001b[0m: [Errno 2] No such file or directory: '/Users/victoria/Desktop/alquiler_procesado.csv'"
     ]
    }
   ],
   "source": [
    "path_toia = '/Users/victoria/Desktop/alquiler_procesado.csv'\n",
    "df = pd.read_csv(path_toia, low_memory=False)"
   ]
  },
  {
   "cell_type": "code",
   "execution_count": 52,
   "metadata": {},
   "outputs": [],
   "source": [
    "path_benja = '/Users/benjavitale/Documents/ML/TP_F/alquiler_procesado.csv'\n",
    "df = pd.read_csv(path_benja, low_memory=False)"
   ]
  },
  {
   "cell_type": "code",
   "execution_count": 53,
   "metadata": {},
   "outputs": [
    {
     "name": "stdout",
     "output_type": "stream",
     "text": [
      "X_train shape: (174908, 69)\n",
      "X_test shape: (43727, 69)\n",
      "y_train shape: (174908,)\n",
      "y_test shape: (43727,)\n"
     ]
    }
   ],
   "source": [
    "X = df.drop(columns=['precio_pesos_constantes'])  \n",
    "y = df['precio_pesos_constantes']\n",
    "\n",
    "X_train, X_test, y_train, y_test = train_test_split(X, y, test_size=0.2, random_state=42)\n",
    "\n",
    "print(f\"X_train shape: {X_train.shape}\")\n",
    "print(f\"X_test shape: {X_test.shape}\")\n",
    "print(f\"y_train shape: {y_train.shape}\")\n",
    "print(f\"y_test shape: {y_test.shape}\")\n",
    "\n"
   ]
  },
  {
   "cell_type": "markdown",
   "metadata": {},
   "source": [
    "#### Hago función para imprimir métricas"
   ]
  },
  {
   "cell_type": "markdown",
   "metadata": {},
   "source": []
  },
  {
   "cell_type": "code",
   "execution_count": 54,
   "metadata": {},
   "outputs": [],
   "source": [
    "def print_metrics(y_train, y_pred_train, y_test, y_pred_test):\n",
    "    # Calcular métricas\n",
    "    mae_train = mean_absolute_error(y_train, y_pred_train)\n",
    "    mae_test = mean_absolute_error(y_test, y_pred_test)\n",
    "    \n",
    "    r2_train = r2_score(y_train, y_pred_train)\n",
    "    r2_test = r2_score(y_test, y_pred_test)\n",
    "    \n",
    "    mse_train = mean_squared_error(y_train, y_pred_train)\n",
    "    mse_test = mean_squared_error(y_test, y_pred_test)\n",
    "    \n",
    "    rmse_train = np.sqrt(mse_train)\n",
    "    rmse_test = np.sqrt(mse_test)\n",
    "\n",
    "    # Crear DataFrame con las métricas\n",
    "    metrics = {\n",
    "        'MAE': [mae_train, mae_test],\n",
    "        'R²': [r2_train, r2_test],\n",
    "        'MSE': [mse_train, mse_test],\n",
    "        'RMSE': [rmse_train, rmse_test]\n",
    "    }\n",
    "    metrics_df = pd.DataFrame(metrics, index=['Entrenamiento', 'Prueba'])\n",
    "\n",
    "    print(metrics_df)\n"
   ]
  },
  {
   "cell_type": "markdown",
   "metadata": {},
   "source": [
    "## Regresión Lineal"
   ]
  },
  {
   "cell_type": "code",
   "execution_count": 55,
   "metadata": {},
   "outputs": [
    {
     "name": "stdout",
     "output_type": "stream",
     "text": [
      "                        MAE        R²           MSE          RMSE\n",
      "Entrenamiento  15138.741846  0.817592  1.953475e+09  44198.127947\n",
      "Prueba         14886.800961  0.805958  1.811218e+09  42558.412291\n"
     ]
    }
   ],
   "source": [
    "linear_model = LinearRegression()\n",
    "linear_model.fit(X_train, y_train)\n",
    "\n",
    "y_pred_train = linear_model.predict(X_train)\n",
    "y_pred_test = linear_model.predict(X_test)\n",
    "\n",
    "print_metrics(y_train, y_pred_train, y_test, y_pred_test)"
   ]
  },
  {
   "cell_type": "markdown",
   "metadata": {},
   "source": [
    "## XGBOOST"
   ]
  },
  {
   "cell_type": "code",
   "execution_count": 59,
   "metadata": {},
   "outputs": [
    {
     "name": "stdout",
     "output_type": "stream",
     "text": [
      "                       MAE        R²           MSE         RMSE\n",
      "Entrenamiento  2678.794905  0.995096  5.251709e+07  7246.867623\n",
      "Prueba         2767.907966  0.989954  9.377503e+07  9683.751044\n"
     ]
    }
   ],
   "source": [
    "from sklearn.ensemble import GradientBoostingRegressor\n",
    "from sklearn.model_selection import train_test_split, GridSearchCV\n",
    "from sklearn.metrics import mean_absolute_error, mean_squared_error\n",
    "import numpy as np\n",
    "\n",
    "# Dividir los datos en conjuntos de entrenamiento y prueba\n",
    "X_train, X_test, y_train, y_test = train_test_split(X, y, test_size=0.2, random_state=42)\n",
    "\n",
    "# Crear el modelo Gradient Boosting\n",
    "gbr_model = GradientBoostingRegressor(\n",
    "    n_estimators=150, \n",
    "    learning_rate=0.1, \n",
    "    max_depth=3, \n",
    "    random_state=42\n",
    ")\n",
    "\n",
    "# Entrenar el modelo\n",
    "gbr_model.fit(X_train, y_train)\n",
    "\n",
    "# Hacer predicciones\n",
    "y_pred_train = gbr_model.predict(X_train)\n",
    "y_pred_test = gbr_model.predict(X_test)\n",
    "\n",
    "\n",
    "\n",
    "\n",
    "print_metrics(y_train, y_pred_train, y_test, y_pred_test)"
   ]
  },
  {
   "cell_type": "markdown",
   "metadata": {},
   "source": [
    "## Red Neuronal"
   ]
  },
  {
   "cell_type": "code",
   "execution_count": 58,
   "metadata": {},
   "outputs": [
    {
     "name": "stderr",
     "output_type": "stream",
     "text": [
      "/Library/Frameworks/Python.framework/Versions/3.10/lib/python3.10/site-packages/keras/src/layers/core/dense.py:87: UserWarning: Do not pass an `input_shape`/`input_dim` argument to a layer. When using Sequential models, prefer using an `Input(shape)` object as the first layer in the model instead.\n",
      "  super().__init__(activity_regularizer=activity_regularizer, **kwargs)\n"
     ]
    },
    {
     "name": "stdout",
     "output_type": "stream",
     "text": [
      "Epoch 1/20\n",
      "\u001b[1m5466/5466\u001b[0m \u001b[32m━━━━━━━━━━━━━━━━━━━━\u001b[0m\u001b[37m\u001b[0m \u001b[1m3s\u001b[0m 398us/step - loss: 11319412736.0000 - mae: 29947.0625 - val_loss: 8480977408.0000 - val_mae: 26360.7441\n",
      "Epoch 2/20\n",
      "\u001b[1m5466/5466\u001b[0m \u001b[32m━━━━━━━━━━━━━━━━━━━━\u001b[0m\u001b[37m\u001b[0m \u001b[1m2s\u001b[0m 380us/step - loss: 9360728064.0000 - mae: 26216.3965 - val_loss: 8003245056.0000 - val_mae: 24254.1680\n",
      "Epoch 3/20\n",
      "\u001b[1m5466/5466\u001b[0m \u001b[32m━━━━━━━━━━━━━━━━━━━━\u001b[0m\u001b[37m\u001b[0m \u001b[1m2s\u001b[0m 372us/step - loss: 9520183296.0000 - mae: 24493.5078 - val_loss: 7643404288.0000 - val_mae: 22465.2656\n",
      "Epoch 4/20\n",
      "\u001b[1m5466/5466\u001b[0m \u001b[32m━━━━━━━━━━━━━━━━━━━━\u001b[0m\u001b[37m\u001b[0m \u001b[1m2s\u001b[0m 379us/step - loss: 9127671808.0000 - mae: 24031.2891 - val_loss: 7390640640.0000 - val_mae: 22322.8145\n",
      "Epoch 5/20\n",
      "\u001b[1m5466/5466\u001b[0m \u001b[32m━━━━━━━━━━━━━━━━━━━━\u001b[0m\u001b[37m\u001b[0m \u001b[1m2s\u001b[0m 372us/step - loss: 8125684736.0000 - mae: 23206.3320 - val_loss: 7152235520.0000 - val_mae: 22742.1191\n",
      "Epoch 6/20\n",
      "\u001b[1m5466/5466\u001b[0m \u001b[32m━━━━━━━━━━━━━━━━━━━━\u001b[0m\u001b[37m\u001b[0m \u001b[1m2s\u001b[0m 372us/step - loss: 8017841664.0000 - mae: 23556.2754 - val_loss: 6879961600.0000 - val_mae: 23043.1934\n",
      "Epoch 7/20\n",
      "\u001b[1m5466/5466\u001b[0m \u001b[32m━━━━━━━━━━━━━━━━━━━━\u001b[0m\u001b[37m\u001b[0m \u001b[1m2s\u001b[0m 400us/step - loss: 7863640576.0000 - mae: 23798.2969 - val_loss: 6539166720.0000 - val_mae: 22358.3008\n",
      "Epoch 8/20\n",
      "\u001b[1m5466/5466\u001b[0m \u001b[32m━━━━━━━━━━━━━━━━━━━━\u001b[0m\u001b[37m\u001b[0m \u001b[1m2s\u001b[0m 372us/step - loss: 8262595584.0000 - mae: 24201.7031 - val_loss: 6095183872.0000 - val_mae: 22084.6426\n",
      "Epoch 9/20\n",
      "\u001b[1m5466/5466\u001b[0m \u001b[32m━━━━━━━━━━━━━━━━━━━━\u001b[0m\u001b[37m\u001b[0m \u001b[1m2s\u001b[0m 383us/step - loss: 6997809152.0000 - mae: 23061.9395 - val_loss: 5508409856.0000 - val_mae: 21791.7637\n",
      "Epoch 10/20\n",
      "\u001b[1m5466/5466\u001b[0m \u001b[32m━━━━━━━━━━━━━━━━━━━━\u001b[0m\u001b[37m\u001b[0m \u001b[1m2s\u001b[0m 395us/step - loss: 6130993152.0000 - mae: 21887.5723 - val_loss: 4741982720.0000 - val_mae: 20485.6074\n",
      "Epoch 11/20\n",
      "\u001b[1m5466/5466\u001b[0m \u001b[32m━━━━━━━━━━━━━━━━━━━━\u001b[0m\u001b[37m\u001b[0m \u001b[1m2s\u001b[0m 404us/step - loss: 5187251200.0000 - mae: 20344.8164 - val_loss: 3810900736.0000 - val_mae: 18497.6562\n",
      "Epoch 12/20\n",
      "\u001b[1m5466/5466\u001b[0m \u001b[32m━━━━━━━━━━━━━━━━━━━━\u001b[0m\u001b[37m\u001b[0m \u001b[1m2s\u001b[0m 374us/step - loss: 4167271168.0000 - mae: 18392.1934 - val_loss: 2889800960.0000 - val_mae: 16137.6133\n",
      "Epoch 13/20\n",
      "\u001b[1m5466/5466\u001b[0m \u001b[32m━━━━━━━━━━━━━━━━━━━━\u001b[0m\u001b[37m\u001b[0m \u001b[1m2s\u001b[0m 373us/step - loss: 3261522176.0000 - mae: 16218.1875 - val_loss: 2164518656.0000 - val_mae: 14495.8086\n",
      "Epoch 14/20\n",
      "\u001b[1m5466/5466\u001b[0m \u001b[32m━━━━━━━━━━━━━━━━━━━━\u001b[0m\u001b[37m\u001b[0m \u001b[1m2s\u001b[0m 385us/step - loss: 2438439168.0000 - mae: 14415.3721 - val_loss: 1807284352.0000 - val_mae: 12804.7314\n",
      "Epoch 15/20\n",
      "\u001b[1m5466/5466\u001b[0m \u001b[32m━━━━━━━━━━━━━━━━━━━━\u001b[0m\u001b[37m\u001b[0m \u001b[1m2s\u001b[0m 372us/step - loss: 1806824960.0000 - mae: 12732.7773 - val_loss: 1692395648.0000 - val_mae: 12307.3945\n",
      "Epoch 16/20\n",
      "\u001b[1m5466/5466\u001b[0m \u001b[32m━━━━━━━━━━━━━━━━━━━━\u001b[0m\u001b[37m\u001b[0m \u001b[1m2s\u001b[0m 372us/step - loss: 1909412864.0000 - mae: 12419.3750 - val_loss: 1658038528.0000 - val_mae: 11856.0635\n",
      "Epoch 17/20\n",
      "\u001b[1m5466/5466\u001b[0m \u001b[32m━━━━━━━━━━━━━━━━━━━━\u001b[0m\u001b[37m\u001b[0m \u001b[1m2s\u001b[0m 378us/step - loss: 1711711488.0000 - mae: 12049.5215 - val_loss: 1626368256.0000 - val_mae: 11613.5234\n",
      "Epoch 18/20\n",
      "\u001b[1m5466/5466\u001b[0m \u001b[32m━━━━━━━━━━━━━━━━━━━━\u001b[0m\u001b[37m\u001b[0m \u001b[1m2s\u001b[0m 374us/step - loss: 1769266304.0000 - mae: 11920.7490 - val_loss: 1611760000.0000 - val_mae: 11536.0225\n",
      "Epoch 19/20\n",
      "\u001b[1m5466/5466\u001b[0m \u001b[32m━━━━━━━━━━━━━━━━━━━━\u001b[0m\u001b[37m\u001b[0m \u001b[1m2s\u001b[0m 372us/step - loss: 1862314880.0000 - mae: 11849.0078 - val_loss: 1607168128.0000 - val_mae: 11612.5664\n",
      "Epoch 20/20\n",
      "\u001b[1m5466/5466\u001b[0m \u001b[32m━━━━━━━━━━━━━━━━━━━━\u001b[0m\u001b[37m\u001b[0m \u001b[1m2s\u001b[0m 378us/step - loss: 1666201472.0000 - mae: 11645.6992 - val_loss: 1593928576.0000 - val_mae: 11483.7676\n",
      "\u001b[1m5466/5466\u001b[0m \u001b[32m━━━━━━━━━━━━━━━━━━━━\u001b[0m\u001b[37m\u001b[0m \u001b[1m1s\u001b[0m 219us/step\n",
      "\u001b[1m1367/1367\u001b[0m \u001b[32m━━━━━━━━━━━━━━━━━━━━\u001b[0m\u001b[37m\u001b[0m \u001b[1m0s\u001b[0m 214us/step\n",
      "                        MAE        R²           MSE          RMSE\n",
      "Entrenamiento  11700.721234  0.838086  1.733994e+09  41641.255244\n",
      "Prueba         11483.767058  0.829237  1.593929e+09  39924.038793\n"
     ]
    }
   ],
   "source": [
    "from tensorflow.keras.models import Sequential\n",
    "from tensorflow.keras.layers import Dense\n",
    "\n",
    "# Normalizar los datos si es necesario\n",
    "from sklearn.preprocessing import MinMaxScaler\n",
    "\n",
    "scaler = MinMaxScaler()\n",
    "X_train_scaled = scaler.fit_transform(X_train)\n",
    "X_test_scaled = scaler.transform(X_test)\n",
    "\n",
    "# Crear el modelo\n",
    "nn_model = Sequential()\n",
    "nn_model.add(Dense(64, input_dim=X_train.shape[1], activation='relu'))\n",
    "nn_model.add(Dense(32, activation='relu'))\n",
    "nn_model.add(Dense(1, activation='linear'))  # Salida para regresión\n",
    "\n",
    "# Compilar el modelo\n",
    "nn_model.compile(optimizer='adam', loss='mse', metrics=['mae'])\n",
    "\n",
    "# Entrenar el modelo\n",
    "nn_model.fit(X_train_scaled, y_train, epochs=20, batch_size=32, validation_data=(X_test_scaled, y_test))\n",
    "\n",
    "# Predicciones\n",
    "y_pred_train = nn_model.predict(X_train_scaled)\n",
    "y_pred_test = nn_model.predict(X_test_scaled)\n",
    "\n",
    "# Métricas\n",
    "print_metrics(y_train, y_pred_train.ravel(), y_test, y_pred_test.ravel())\n"
   ]
  },
  {
   "cell_type": "code",
   "execution_count": 60,
   "metadata": {},
   "outputs": [
    {
     "name": "stderr",
     "output_type": "stream",
     "text": [
      "/Library/Frameworks/Python.framework/Versions/3.10/lib/python3.10/site-packages/keras/src/layers/core/dense.py:87: UserWarning: Do not pass an `input_shape`/`input_dim` argument to a layer. When using Sequential models, prefer using an `Input(shape)` object as the first layer in the model instead.\n",
      "  super().__init__(activity_regularizer=activity_regularizer, **kwargs)\n"
     ]
    },
    {
     "name": "stdout",
     "output_type": "stream",
     "text": [
      "Epoch 1/30\n",
      "\u001b[1m10932/10932\u001b[0m \u001b[32m━━━━━━━━━━━━━━━━━━━━\u001b[0m\u001b[37m\u001b[0m \u001b[1m5s\u001b[0m 460us/step - loss: 10962220032.0000 - mae: 29481.0879 - val_loss: 8445754368.0000 - val_mae: 26372.7891\n",
      "Epoch 2/30\n",
      "\u001b[1m10932/10932\u001b[0m \u001b[32m━━━━━━━━━━━━━━━━━━━━\u001b[0m\u001b[37m\u001b[0m \u001b[1m5s\u001b[0m 452us/step - loss: 9542863872.0000 - mae: 26167.0840 - val_loss: 7971095552.0000 - val_mae: 22915.6816\n",
      "Epoch 3/30\n",
      "\u001b[1m10932/10932\u001b[0m \u001b[32m━━━━━━━━━━━━━━━━━━━━\u001b[0m\u001b[37m\u001b[0m \u001b[1m5s\u001b[0m 452us/step - loss: 9399122944.0000 - mae: 23765.5488 - val_loss: 7610060288.0000 - val_mae: 21267.8711\n",
      "Epoch 4/30\n",
      "\u001b[1m10932/10932\u001b[0m \u001b[32m━━━━━━━━━━━━━━━━━━━━\u001b[0m\u001b[37m\u001b[0m \u001b[1m5s\u001b[0m 458us/step - loss: 8997250048.0000 - mae: 22364.9902 - val_loss: 7335232512.0000 - val_mae: 21165.1484\n",
      "Epoch 5/30\n",
      "\u001b[1m10932/10932\u001b[0m \u001b[32m━━━━━━━━━━━━━━━━━━━━\u001b[0m\u001b[37m\u001b[0m \u001b[1m5s\u001b[0m 453us/step - loss: 8687687680.0000 - mae: 21959.1406 - val_loss: 7082760704.0000 - val_mae: 19821.6055\n",
      "Epoch 6/30\n",
      "\u001b[1m10932/10932\u001b[0m \u001b[32m━━━━━━━━━━━━━━━━━━━━\u001b[0m\u001b[37m\u001b[0m \u001b[1m5s\u001b[0m 453us/step - loss: 8025190400.0000 - mae: 20989.4590 - val_loss: 6791128064.0000 - val_mae: 19758.8926\n",
      "Epoch 7/30\n",
      "\u001b[1m10932/10932\u001b[0m \u001b[32m━━━━━━━━━━━━━━━━━━━━\u001b[0m\u001b[37m\u001b[0m \u001b[1m5s\u001b[0m 448us/step - loss: 7717301248.0000 - mae: 20558.7227 - val_loss: 6433484288.0000 - val_mae: 19022.5781\n",
      "Epoch 8/30\n",
      "\u001b[1m10932/10932\u001b[0m \u001b[32m━━━━━━━━━━━━━━━━━━━━\u001b[0m\u001b[37m\u001b[0m \u001b[1m5s\u001b[0m 450us/step - loss: 7478422528.0000 - mae: 20339.0430 - val_loss: 5981428224.0000 - val_mae: 18339.3574\n",
      "Epoch 9/30\n",
      "\u001b[1m10932/10932\u001b[0m \u001b[32m━━━━━━━━━━━━━━━━━━━━\u001b[0m\u001b[37m\u001b[0m \u001b[1m5s\u001b[0m 456us/step - loss: 6674529792.0000 - mae: 19500.0645 - val_loss: 5392417280.0000 - val_mae: 17988.3242\n",
      "Epoch 10/30\n",
      "\u001b[1m10932/10932\u001b[0m \u001b[32m━━━━━━━━━━━━━━━━━━━━\u001b[0m\u001b[37m\u001b[0m \u001b[1m5s\u001b[0m 478us/step - loss: 5855839232.0000 - mae: 18869.4941 - val_loss: 4670793728.0000 - val_mae: 17144.4219\n",
      "Epoch 11/30\n",
      "\u001b[1m10932/10932\u001b[0m \u001b[32m━━━━━━━━━━━━━━━━━━━━\u001b[0m\u001b[37m\u001b[0m \u001b[1m5s\u001b[0m 455us/step - loss: 5174355456.0000 - mae: 18315.4062 - val_loss: 3840991488.0000 - val_mae: 16713.1094\n",
      "Epoch 12/30\n",
      "\u001b[1m10932/10932\u001b[0m \u001b[32m━━━━━━━━━━━━━━━━━━━━\u001b[0m\u001b[37m\u001b[0m \u001b[1m5s\u001b[0m 455us/step - loss: 4345124864.0000 - mae: 17705.4316 - val_loss: 3035293440.0000 - val_mae: 15642.7246\n",
      "Epoch 13/30\n",
      "\u001b[1m10932/10932\u001b[0m \u001b[32m━━━━━━━━━━━━━━━━━━━━\u001b[0m\u001b[37m\u001b[0m \u001b[1m5s\u001b[0m 455us/step - loss: 3376442624.0000 - mae: 16515.9980 - val_loss: 2366574080.0000 - val_mae: 14134.5977\n",
      "Epoch 14/30\n",
      "\u001b[1m10932/10932\u001b[0m \u001b[32m━━━━━━━━━━━━━━━━━━━━\u001b[0m\u001b[37m\u001b[0m \u001b[1m5s\u001b[0m 455us/step - loss: 2821220096.0000 - mae: 15420.8389 - val_loss: 1961583488.0000 - val_mae: 13867.9453\n",
      "Epoch 15/30\n",
      "\u001b[1m10932/10932\u001b[0m \u001b[32m━━━━━━━━━━━━━━━━━━━━\u001b[0m\u001b[37m\u001b[0m \u001b[1m5s\u001b[0m 465us/step - loss: 2180322048.0000 - mae: 14006.9443 - val_loss: 1783434496.0000 - val_mae: 12710.3818\n",
      "Epoch 16/30\n",
      "\u001b[1m10932/10932\u001b[0m \u001b[32m━━━━━━━━━━━━━━━━━━━━\u001b[0m\u001b[37m\u001b[0m \u001b[1m5s\u001b[0m 454us/step - loss: 2020139520.0000 - mae: 13354.8223 - val_loss: 1714824704.0000 - val_mae: 12056.4131\n",
      "Epoch 17/30\n",
      "\u001b[1m10932/10932\u001b[0m \u001b[32m━━━━━━━━━━━━━━━━━━━━\u001b[0m\u001b[37m\u001b[0m \u001b[1m5s\u001b[0m 462us/step - loss: 2064258816.0000 - mae: 13196.3838 - val_loss: 1682171392.0000 - val_mae: 11847.8135\n",
      "Epoch 18/30\n",
      "\u001b[1m10932/10932\u001b[0m \u001b[32m━━━━━━━━━━━━━━━━━━━━\u001b[0m\u001b[37m\u001b[0m \u001b[1m5s\u001b[0m 452us/step - loss: 1945613696.0000 - mae: 12908.0771 - val_loss: 1662189184.0000 - val_mae: 11781.3135\n",
      "Epoch 19/30\n",
      "\u001b[1m10932/10932\u001b[0m \u001b[32m━━━━━━━━━━━━━━━━━━━━\u001b[0m\u001b[37m\u001b[0m \u001b[1m5s\u001b[0m 464us/step - loss: 1994836224.0000 - mae: 12557.4707 - val_loss: 1650978688.0000 - val_mae: 11656.1270\n",
      "Epoch 20/30\n",
      "\u001b[1m10932/10932\u001b[0m \u001b[32m━━━━━━━━━━━━━━━━━━━━\u001b[0m\u001b[37m\u001b[0m \u001b[1m5s\u001b[0m 474us/step - loss: 1858395904.0000 - mae: 12442.4834 - val_loss: 1637300992.0000 - val_mae: 11653.6514\n",
      "Epoch 21/30\n",
      "\u001b[1m10932/10932\u001b[0m \u001b[32m━━━━━━━━━━━━━━━━━━━━\u001b[0m\u001b[37m\u001b[0m \u001b[1m5s\u001b[0m 463us/step - loss: 1880663552.0000 - mae: 12384.9473 - val_loss: 1641366272.0000 - val_mae: 11853.4541\n",
      "Epoch 22/30\n",
      "\u001b[1m10932/10932\u001b[0m \u001b[32m━━━━━━━━━━━━━━━━━━━━\u001b[0m\u001b[37m\u001b[0m \u001b[1m5s\u001b[0m 489us/step - loss: 1867545344.0000 - mae: 12155.3838 - val_loss: 1634276480.0000 - val_mae: 11874.0225\n",
      "Epoch 23/30\n",
      "\u001b[1m10932/10932\u001b[0m \u001b[32m━━━━━━━━━━━━━━━━━━━━\u001b[0m\u001b[37m\u001b[0m \u001b[1m5s\u001b[0m 453us/step - loss: 1983765120.0000 - mae: 12264.2832 - val_loss: 1634217344.0000 - val_mae: 11581.2451\n",
      "Epoch 24/30\n",
      "\u001b[1m10932/10932\u001b[0m \u001b[32m━━━━━━━━━━━━━━━━━━━━\u001b[0m\u001b[37m\u001b[0m \u001b[1m5s\u001b[0m 453us/step - loss: 1945027712.0000 - mae: 12282.3252 - val_loss: 1618104320.0000 - val_mae: 11113.3809\n",
      "Epoch 25/30\n",
      "\u001b[1m10932/10932\u001b[0m \u001b[32m━━━━━━━━━━━━━━━━━━━━\u001b[0m\u001b[37m\u001b[0m \u001b[1m5s\u001b[0m 456us/step - loss: 1885421056.0000 - mae: 12124.4668 - val_loss: 1619775232.0000 - val_mae: 11122.0361\n",
      "Epoch 26/30\n",
      "\u001b[1m10932/10932\u001b[0m \u001b[32m━━━━━━━━━━━━━━━━━━━━\u001b[0m\u001b[37m\u001b[0m \u001b[1m5s\u001b[0m 454us/step - loss: 1778083328.0000 - mae: 12029.4580 - val_loss: 1611562496.0000 - val_mae: 11212.5508\n",
      "Epoch 27/30\n",
      "\u001b[1m10932/10932\u001b[0m \u001b[32m━━━━━━━━━━━━━━━━━━━━\u001b[0m\u001b[37m\u001b[0m \u001b[1m5s\u001b[0m 454us/step - loss: 1814117504.0000 - mae: 12083.8154 - val_loss: 1602897664.0000 - val_mae: 11327.4131\n",
      "Epoch 28/30\n",
      "\u001b[1m10932/10932\u001b[0m \u001b[32m━━━━━━━━━━━━━━━━━━━━\u001b[0m\u001b[37m\u001b[0m \u001b[1m5s\u001b[0m 452us/step - loss: 2026945664.0000 - mae: 12256.8320 - val_loss: 1600208640.0000 - val_mae: 11360.9502\n",
      "Epoch 29/30\n",
      "\u001b[1m10932/10932\u001b[0m \u001b[32m━━━━━━━━━━━━━━━━━━━━\u001b[0m\u001b[37m\u001b[0m \u001b[1m5s\u001b[0m 454us/step - loss: 1747392256.0000 - mae: 11971.1230 - val_loss: 1593481728.0000 - val_mae: 11133.4209\n",
      "Epoch 30/30\n",
      "\u001b[1m10932/10932\u001b[0m \u001b[32m━━━━━━━━━━━━━━━━━━━━\u001b[0m\u001b[37m\u001b[0m \u001b[1m5s\u001b[0m 465us/step - loss: 1755893504.0000 - mae: 11973.6113 - val_loss: 1594082688.0000 - val_mae: 11512.3301\n",
      "\u001b[1m5466/5466\u001b[0m \u001b[32m━━━━━━━━━━━━━━━━━━━━\u001b[0m\u001b[37m\u001b[0m \u001b[1m1s\u001b[0m 238us/step\n",
      "\u001b[1m1367/1367\u001b[0m \u001b[32m━━━━━━━━━━━━━━━━━━━━\u001b[0m\u001b[37m\u001b[0m \u001b[1m0s\u001b[0m 239us/step\n",
      "                        MAE        R²           MSE          RMSE\n",
      "Entrenamiento  11711.111095  0.840274  1.710562e+09  41358.937117\n",
      "Prueba         11512.323710  0.829220  1.594083e+09  39925.963470\n"
     ]
    }
   ],
   "source": [
    "from tensorflow.keras.models import Sequential\n",
    "from tensorflow.keras.layers import Dense, Dropout\n",
    "from tensorflow.keras.optimizers import Adam\n",
    "from tensorflow.keras.regularizers import l2\n",
    "from sklearn.preprocessing import MinMaxScaler\n",
    "from sklearn.metrics import mean_absolute_error, mean_squared_error, r2_score\n",
    "\n",
    "# Normalizar los datos\n",
    "scaler = MinMaxScaler()\n",
    "X_train_scaled = scaler.fit_transform(X_train)\n",
    "X_test_scaled = scaler.transform(X_test)\n",
    "\n",
    "# Crear el modelo\n",
    "nn_model = Sequential()\n",
    "nn_model.add(Dense(128, input_dim=X_train.shape[1], activation='relu', kernel_regularizer=l2(0.001)))\n",
    "nn_model.add(Dropout(0.2))\n",
    "nn_model.add(Dense(64, activation='relu', kernel_regularizer=l2(0.001)))\n",
    "nn_model.add(Dropout(0.2))\n",
    "nn_model.add(Dense(1, activation='linear'))\n",
    "\n",
    "# Compilar el modelo con tasa de aprendizaje ajustada\n",
    "optimizer = Adam(learning_rate=0.0005)\n",
    "nn_model.compile(optimizer=optimizer, loss='mse', metrics=['mae'])\n",
    "\n",
    "# Entrenar el modelo\n",
    "history = nn_model.fit(X_train_scaled, y_train, epochs=30, batch_size=16, validation_data=(X_test_scaled, y_test))\n",
    "\n",
    "# Predicciones\n",
    "y_pred_train = nn_model.predict(X_train_scaled).ravel()\n",
    "y_pred_test = nn_model.predict(X_test_scaled).ravel()\n",
    "\n",
    "# Métricas\n",
    "print_metrics(y_train, y_pred_train.ravel(), y_test, y_pred_test.ravel())\n"
   ]
  }
 ],
 "metadata": {
  "kernelspec": {
   "display_name": "Python 3.10.5 64-bit",
   "language": "python",
   "name": "python3"
  },
  "language_info": {
   "codemirror_mode": {
    "name": "ipython",
    "version": 3
   },
   "file_extension": ".py",
   "mimetype": "text/x-python",
   "name": "python",
   "nbconvert_exporter": "python",
   "pygments_lexer": "ipython3",
   "version": "3.10.5"
  },
  "vscode": {
   "interpreter": {
    "hash": "7e1998ff7f8aa20ada591c520b972326324e5ea05489af9e422744c7c09f6dad"
   }
  }
 },
 "nbformat": 4,
 "nbformat_minor": 2
}
